{
 "cells": [
  {
   "cell_type": "markdown",
   "metadata": {},
   "source": [
    "# Self-Driving Car Engineer Nanodegree\n",
    "\n",
    "\n",
    "## Project: **Finding Lane Lines on the Road** \n",
    "***\n",
    "In this project, you will use the tools you learned about in the lesson to identify lane lines on the road.  You can develop your pipeline on a series of individual images, and later apply the result to a video stream (really just a series of images). Check out the video clip \"raw-lines-example.mp4\" (also contained in this repository) to see what the output should look like after using the helper functions below. \n",
    "\n",
    "Once you have a result that looks roughly like \"raw-lines-example.mp4\", you'll need to get creative and try to average and/or extrapolate the line segments you've detected to map out the full extent of the lane lines.  You can see an example of the result you're going for in the video \"P1_example.mp4\".  Ultimately, you would like to draw just one line for the left side of the lane, and one for the right.\n",
    "\n",
    "In addition to implementing code, there is a brief writeup to complete. The writeup should be completed in a separate file, which can be either a markdown file or a pdf document. There is a [write up template](https://github.com/udacity/CarND-LaneLines-P1/blob/master/writeup_template.md) that can be used to guide the writing process. Completing both the code in the Ipython notebook and the writeup template will cover all of the [rubric points](https://review.udacity.com/#!/rubrics/322/view) for this project.\n",
    "\n",
    "---\n",
    "Let's have a look at our first image called 'test_images/solidWhiteRight.jpg'.  Run the 2 cells below (hit Shift-Enter or the \"play\" button above) to display the image.\n",
    "\n",
    "**Note: If, at any point, you encounter frozen display windows or other confounding issues, you can always start again with a clean slate by going to the \"Kernel\" menu above and selecting \"Restart & Clear Output\".**\n",
    "\n",
    "---"
   ]
  },
  {
   "cell_type": "markdown",
   "metadata": {},
   "source": [
    "**The tools you have are color selection, region of interest selection, grayscaling, Gaussian smoothing, Canny Edge Detection and Hough Tranform line detection.  You  are also free to explore and try other techniques that were not presented in the lesson.  Your goal is piece together a pipeline to detect the line segments in the image, then average/extrapolate them and draw them onto the image for display (as below).  Once you have a working pipeline, try it out on the video stream below.**\n",
    "\n",
    "---\n",
    "\n",
    "<figure>\n",
    " <img src=\"examples/line-segments-example.jpg\" width=\"380\" alt=\"Combined Image\" />\n",
    " <figcaption>\n",
    " <p></p> \n",
    " <p style=\"text-align: center;\"> Your output should look something like this (above) after detecting line segments using the helper functions below </p> \n",
    " </figcaption>\n",
    "</figure>\n",
    " <p></p> \n",
    "<figure>\n",
    " <img src=\"examples/laneLines_thirdPass.jpg\" width=\"380\" alt=\"Combined Image\" />\n",
    " <figcaption>\n",
    " <p></p> \n",
    " <p style=\"text-align: center;\"> Your goal is to connect/average/extrapolate line segments to get output like this</p> \n",
    " </figcaption>\n",
    "</figure>"
   ]
  },
  {
   "cell_type": "markdown",
   "metadata": {},
   "source": [
    "**Run the cell below to import some packages.  If you get an `import error` for a package you've already installed, try changing your kernel (select the Kernel menu above --> Change Kernel).  Still have problems?  Try relaunching Jupyter Notebook from the terminal prompt.  Also, consult the forums for more troubleshooting tips.**  "
   ]
  },
  {
   "cell_type": "markdown",
   "metadata": {},
   "source": [
    "## Import Packages"
   ]
  },
  {
   "cell_type": "code",
   "execution_count": 1,
   "metadata": {
    "collapsed": true
   },
   "outputs": [],
   "source": [
    "#importing some useful packages\n",
    "import matplotlib.pyplot as plt\n",
    "import matplotlib.image as mpimg\n",
    "import numpy as np\n",
    "import cv2\n",
    "from sklearn.cluster import KMeans\n",
    "from sklearn import linear_model\n",
    "from sklearn.preprocessing import normalize\n",
    "import os\n",
    "\n",
    "%matplotlib inline\n",
    "%config InlineBackend.figure_format = 'retina'"
   ]
  },
  {
   "cell_type": "markdown",
   "metadata": {},
   "source": [
    "## Read in an Image"
   ]
  },
  {
   "cell_type": "code",
   "execution_count": null,
   "metadata": {},
   "outputs": [],
   "source": [
    "#reading in an image\n",
    "image = mpimg.imread('test_images/solidWhiteRight.jpg')\n",
    "\n",
    "#printing out some stats and plotting\n",
    "print('This image is:', type(image), 'with dimensions:', image.shape)\n",
    "plt.imshow(image)  # if you wanted to show a single color channel image called 'gray', for example, call as plt.imshow(gray, cmap='gray')"
   ]
  },
  {
   "cell_type": "markdown",
   "metadata": {},
   "source": [
    "## Ideas for Lane Detection Pipeline"
   ]
  },
  {
   "cell_type": "markdown",
   "metadata": {},
   "source": [
    "**Some OpenCV functions (beyond those introduced in the lesson) that might be useful for this project are:**\n",
    "\n",
    "`cv2.inRange()` for color selection  \n",
    "`cv2.fillPoly()` for regions selection  \n",
    "`cv2.line()` to draw lines on an image given endpoints  \n",
    "`cv2.addWeighted()` to coadd / overlay two images  \n",
    "`cv2.cvtColor()` to grayscale or change color  \n",
    "`cv2.imwrite()` to output images to file  \n",
    "`cv2.bitwise_and()` to apply a mask to an image\n",
    "\n",
    "**Check out the OpenCV documentation to learn about these and discover even more awesome functionality!**"
   ]
  },
  {
   "cell_type": "markdown",
   "metadata": {},
   "source": [
    "## Helper Functions"
   ]
  },
  {
   "cell_type": "markdown",
   "metadata": {},
   "source": [
    "Below are some helper functions to help get you started. They should look familiar from the lesson!"
   ]
  },
  {
   "cell_type": "code",
   "execution_count": 2,
   "metadata": {
    "collapsed": true
   },
   "outputs": [],
   "source": [
    "import math\n",
    "\n",
    "def grayscale(img):\n",
    "    \"\"\"Applies the Grayscale transform\n",
    "    This will return an image with only one color channel\n",
    "    but NOTE: to see the returned image as grayscale\n",
    "    (assuming your grayscaled image is called 'gray')\n",
    "    you should call plt.imshow(gray, cmap='gray')\"\"\"\n",
    "    return cv2.cvtColor(img, cv2.COLOR_RGB2GRAY)\n",
    "    # Or use BGR2GRAY if you read an image with cv2.imread()\n",
    "    # return cv2.cvtColor(img, cv2.COLOR_BGR2GRAY)\n",
    "    \n",
    "def canny(img, low_threshold, high_threshold):\n",
    "    \"\"\"Applies the Canny transform\"\"\"\n",
    "    return cv2.Canny(img, low_threshold, high_threshold)\n",
    "\n",
    "def gaussian_blur(img, kernel_size):\n",
    "    \"\"\"Applies a Gaussian Noise kernel\"\"\"\n",
    "    return cv2.GaussianBlur(img, (kernel_size, kernel_size), 0)\n",
    "\n",
    "def region_of_interest(img, vertices):\n",
    "    \"\"\"\n",
    "    Applies an image mask.\n",
    "    \n",
    "    Only keeps the region of the image defined by the polygon\n",
    "    formed from `vertices`. The rest of the image is set to black.\n",
    "    \"\"\"\n",
    "    #defining a blank mask to start with\n",
    "    mask = np.zeros_like(img)   \n",
    "    \n",
    "    #defining a 3 channel or 1 channel color to fill the mask with depending on the input image\n",
    "    if len(img.shape) > 2:\n",
    "        channel_count = img.shape[2]  # i.e. 3 or 4 depending on your image\n",
    "        ignore_mask_color = (255,) * channel_count\n",
    "    else:\n",
    "        ignore_mask_color = 255\n",
    "        \n",
    "    #filling pixels inside the polygon defined by \"vertices\" with the fill color    \n",
    "    cv2.fillPoly(mask, np.array([vertices], dtype=np.int32), ignore_mask_color)\n",
    "    #plt.figure()\n",
    "    #plt.imshow(weighted_img(mask, img, β=0.3))\n",
    "    \n",
    "    #returning the image only where mask pixels are nonzero\n",
    "    masked_image = cv2.bitwise_and(img, mask)\n",
    "    return masked_image\n",
    "\n",
    "\n",
    "def draw_lines(img, lines, color=[255, 0, 0], thickness=2):\n",
    "    \"\"\"\n",
    "    NOTE: this is the function you might want to use as a starting point once you want to \n",
    "    average/extrapolate the line segments you detect to map out the full\n",
    "    extent of the lane (going from the result shown in raw-lines-example.mp4\n",
    "    to that shown in P1_example.mp4).  \n",
    "    \n",
    "    Think about things like separating line segments by their \n",
    "    slope ((y2-y1)/(x2-x1)) to decide which segments are part of the left\n",
    "    line vs. the right line.  Then, you can average the position of each of \n",
    "    the lines and extrapolate to the top and bottom of the lane.\n",
    "    \n",
    "    This function draws `lines` with `color` and `thickness`.    \n",
    "    Lines are drawn on the image inplace (mutates the image).\n",
    "    If you want to make the lines semi-transparent, think about combining\n",
    "    this function with the weighted_img() function below\n",
    "    \"\"\"\n",
    "    for line in lines:\n",
    "        for x1,y1,x2,y2 in line:\n",
    "            cv2.line(img, (x1, y1), (x2, y2), color, thickness)\n",
    "\n",
    "def hough_lines(img, rho, theta, threshold, min_line_len, max_line_gap):\n",
    "    \"\"\"\n",
    "    `img` should be the output of a Canny transform.\n",
    "        \n",
    "    Returns a list of lines of (x1,y1,x2,y2).\n",
    "    \"\"\"\n",
    "    return cv2.HoughLinesP(img, rho, theta, threshold, np.array([]), minLineLength=min_line_len, maxLineGap=max_line_gap) \n",
    "\n",
    "# Python 3 has support for cool math symbols.\n",
    "\n",
    "def weighted_img(img, initial_img, α=0.8, β=1., λ=0.):\n",
    "    \"\"\"\n",
    "    `img` is the output of the hough_lines(), An image with lines drawn on it.\n",
    "    Should be a blank image (all black) with lines drawn on it.\n",
    "    \n",
    "    `initial_img` should be the image before any processing.\n",
    "    \n",
    "    The result image is computed as follows:\n",
    "    \n",
    "    initial_img * α + img * β + λ\n",
    "    NOTE: initial_img and img must be the same shape!\n",
    "    \"\"\"\n",
    "    return cv2.addWeighted(initial_img, α, img, β, λ)"
   ]
  },
  {
   "cell_type": "markdown",
   "metadata": {},
   "source": [
    "## Extrapolate lines"
   ]
  },
  {
   "cell_type": "code",
   "execution_count": 3,
   "metadata": {},
   "outputs": [],
   "source": [
    "def extrapolate_lines(raw_lines, num_lines, use_lr=True, use_km=True):    \n",
    "    \"\"\"Extrapolate lines by clustering and linear regression.\n",
    "    The clustering is done by KMeans, which requires a prior knowledge of the number cluster.\n",
    "    In this case, we know there are two: left lane and right lane.\n",
    "    Additional parameter include whether use Linear Regression or simple averaging,\n",
    "    and whether Kmeans for clustering.\n",
    "    \"\"\"\n",
    "    # Convert each line segment from (x1, y1, x2, y2) to (slope, intercept) space.\n",
    "    # For numerical stability, add a small epilson to handle the case of vertical lines.\n",
    "    # To improve, we could convert to (rho, theta) space where all lines are well defined.\n",
    "    points = list()\n",
    "    for line in raw_lines:\n",
    "        for x1, y1, x2, y2 in line:\n",
    "            points.append([(y1-y2) / (x1-x2+1e-6), (y2*x1-y1*x2) / (x1-x2+1e-6), abs(x1-x2)+1e-6])      \n",
    "    points = np.array(points)\n",
    "    #print(points[:,0])\n",
    "    #points_normalized = normalize(points)\n",
    "    #print(point_normalized)\n",
    "\n",
    "    if use_km:\n",
    "        # Run KMeans clustering based on the Eclidean distance in Hough space.\n",
    "        # There is a lot of variance in intercept. Slope, on the other hand, is more stable.\n",
    "        # So, just feed slope for KMeans clustering.\n",
    "        labels = KMeans(n_clusters=num_lines, random_state=0).fit(points[:,0].reshape(-1,1)).labels_\n",
    "    else:\n",
    "        # KMeans is not stable in the case where there is a line with large slope.\n",
    "        labels = np.array([1 if s >=0 else 0 for s, _, _ in points])\n",
    "    #print(labels)\n",
    "\n",
    "\n",
    "    # Find each line (left, right)\n",
    "    learned_lines = list()\n",
    "    for l in range(num_lines):\n",
    "        #print('For line %d' % l)\n",
    "        #print(raw_lines[labels==l])\n",
    "        mass_center = np.average(points[labels==l], axis=0)\n",
    "        #print(mass_center)\n",
    "        if use_lr:\n",
    "            # Run a linear regression to get the average slope and intercept\n",
    "            x = list()\n",
    "            y = list()\n",
    "            for line in raw_lines[labels==l]:\n",
    "                for x1,y1,x2,y2 in line:\n",
    "                    x.extend([x1, x2])\n",
    "                    y.extend([y1, y2])\n",
    "            #print(x)\n",
    "            #print(y)\n",
    "            # Add per-sample weights based on the Eclidean distance to the mass center.\n",
    "            # Otherwise, the regression is overly sensitive to outliers (due to mis-classification by KMeans)\n",
    "            # Extreme slope lines are tricky to deal: it can be easily mis-clustered.\n",
    "            # This is a bit hacky: just throw it away.\n",
    "            # Due to the high variance of intercept, we just use it to generate weights.\n",
    "            weights = np.array([x/math.sqrt((s - mass_center[0])**2 + (b - mass_center[1])**2)\n",
    "                                if 5 >= abs(s) >= 0.5 else 0\n",
    "                                for s, b, x in points[labels==l]])\n",
    "            # Clip the weights to avoid being too large.\n",
    "            #print(weights)\n",
    "            #weights[weights > 300] = 300\n",
    "            # Each weight corresponds to two x-y points.\n",
    "            weights2 = list()\n",
    "            for w in weights:\n",
    "                weights2.extend([w, w])\n",
    "            # Use X to adjust weights, since the two lines are easily separable in X axis.\n",
    "            x_std = np.std(x)\n",
    "            x_avg = np.average(x)\n",
    "            weights2 = np.array(weights2)\n",
    "            #print(weights2)\n",
    "            weights2[abs(x - x_avg) > 1.5 * x_std] = 0\n",
    "            if np.all(weights2==0):\n",
    "                # this is a degenerated case. Set weight to non-zero otherwise the fit will fail.\n",
    "                weights2=np.random.uniform(size=weights2.shape)\n",
    "            #print(weights2)\n",
    "            # Normalize the weights\n",
    "            weights_n = normalize([weights2])[0,:]\n",
    "            #print(weights_n)\n",
    "            lr = linear_model.LinearRegression()\n",
    "            lr.fit(np.array(x).reshape(-1,1), y, weights_n)\n",
    "            learned_lines.append([lr.coef_[0], lr.intercept_])\n",
    "        else:\n",
    "            # Simple averaging\n",
    "            learned_lines.append(np.average(points[labels==l], axis=0))\n",
    "        \n",
    "    # Return the KMeans labels for debugging.\n",
    "    #print(learned_lines)\n",
    "    return learned_lines, labels"
   ]
  },
  {
   "cell_type": "markdown",
   "metadata": {},
   "source": [
    "## Parameters for tunning"
   ]
  },
  {
   "cell_type": "code",
   "execution_count": 4,
   "metadata": {
    "collapsed": true
   },
   "outputs": [],
   "source": [
    "# The region is a ratio for the input image frame.\n",
    "lane_region = [\n",
    "    (120.0/960, 1.0),\n",
    "    (430.0/960, 330.0/540),\n",
    "    (540.0/960, 330.0/540),\n",
    "    (950.0/960, 1.0)\n",
    "]\n",
    "# Parameters for rough transformation\n",
    "rho = 2              # distance resolution in pixels of the Hough grid\n",
    "theta = np.pi/180    # angular resolution in radians of the Hough grid\n",
    "threshold = 10       # minimum number of votes (intersections in Hough grid cell)\n",
    "min_line_length = 20 # minimum number of pixels making up a line\n",
    "max_line_gap = 40    # maximum gap in pixels between connectable line segments"
   ]
  },
  {
   "cell_type": "markdown",
   "metadata": {},
   "source": [
    "### Debugging session"
   ]
  },
  {
   "cell_type": "code",
   "execution_count": null,
   "metadata": {},
   "outputs": [],
   "source": [
    "def debug_find_lane_lines(raw_image, lane_region, rho, theta, threshold, min_line_length, max_line_gap, extrapolate, use_lr, use_km):\n",
    "    \"\"\"Find the lanes and draw them on an empty image.\n",
    "    \"\"\"\n",
    "    # Convert image to gray scale\n",
    "    grey_image = grayscale(raw_image)\n",
    "    # Apply Gaussian blur\n",
    "    blur_image = gaussian_blur(grey_image, 3)\n",
    "    # Detect edges using Canny transformation\n",
    "    edges = canny(blur_image, 50, 150)\n",
    "    # Crop according to the area of interest\n",
    "    region = [(x * edges.shape[1], y * edges.shape[0]) for x, y in lane_region]\n",
    "    masked_edges = region_of_interest(edges, region)\n",
    "    # Find lines using Hough transformation\n",
    "    lines = hough_lines(masked_edges, rho, theta, threshold, min_line_length, max_line_gap)\n",
    "    plt.figure()\n",
    "    plt.imshow(masked_edges)\n",
    "    \n",
    "    lanes_image = np.zeros_like(raw_image)\n",
    "    if extrapolate:\n",
    "        # Extrapolate to find left and right lanes\n",
    "        def y(x, param): return int(round(x*param[0] + param[1]))\n",
    "        lp, labels = extrapolate_lines(lines, 2, use_lr, use_km)\n",
    "        lanes = [[0, y(0, p), raw_image.shape[1], y(raw_image.shape[1], p)]\n",
    "                 for p in lp]\n",
    "        #print(lp)\n",
    "        # Draw the lanes full extended\n",
    "        #draw_lines(lanes_image, np.array([lanes]), thickness=5)\n",
    "        #draw_lines(lanes_image, lines[labels==0], color=[0,0,255])\n",
    "        draw_lines(lanes_image, lines[labels==1], color=[0,255,0])\n",
    "        # Last, bound the lines in the area of interest\n",
    "        lanes_image = region_of_interest(lanes_image, region)\n",
    "    else:\n",
    "        draw_lines(lanes_image, lines, thickness=5)\n",
    "    return lanes_image\n",
    "\n",
    "raw_image = mpimg.imread('debug_images/debug-003.jpg')\n",
    "lanes = debug_find_lane_lines(raw_image, lane_region, \n",
    "                              rho, theta, threshold, min_line_length, max_line_gap,\n",
    "                              extrapolate=True, use_lr=True, use_km=False)\n",
    "# Overlay the lanes on original image\n",
    "annotated = weighted_img(lanes, raw_image, α=0.1)\n",
    "plt.figure()\n",
    "plt.imshow(annotated)"
   ]
  },
  {
   "cell_type": "markdown",
   "metadata": {},
   "source": [
    "## Test Images\n",
    "\n",
    "Build your pipeline to work on the images in the directory \"test_images\"  \n",
    "**You should make sure your pipeline works well on these images before you try the videos.**"
   ]
  },
  {
   "cell_type": "code",
   "execution_count": null,
   "metadata": {},
   "outputs": [],
   "source": [
    "import os\n",
    "os.listdir(\"test_images/\")"
   ]
  },
  {
   "cell_type": "markdown",
   "metadata": {},
   "source": [
    "## Build a Lane Finding Pipeline\n",
    "\n"
   ]
  },
  {
   "cell_type": "markdown",
   "metadata": {},
   "source": [
    "Build the pipeline and run your solution on all test_images. Make copies into the `test_images_output` directory, and you can use the images in your writeup report.\n",
    "\n",
    "Try tuning the various parameters, especially the low and high Canny thresholds as well as the Hough lines parameters."
   ]
  },
  {
   "cell_type": "code",
   "execution_count": 5,
   "metadata": {},
   "outputs": [
    {
     "name": "stdout",
     "output_type": "stream",
     "text": [
      "wrting back test_images_output/solidWhiteCurve.jpg\n",
      "wrting back test_images_output/solidWhiteRight.jpg\n",
      "wrting back test_images_output/solidYellowCurve.jpg\n",
      "wrting back test_images_output/solidYellowCurve2.jpg\n",
      "wrting back test_images_output/solidYellowLeft.jpg\n",
      "wrting back test_images_output/whiteCarLaneSwitch.jpg\n"
     ]
    }
   ],
   "source": [
    "# TODO: Build your pipeline that will draw lane lines on the test_images\n",
    "# then save them to the test_images directory.\n",
    "\n",
    "def find_lane_lines(raw_image, lane_region, rho, theta, threshold, min_line_length, max_line_gap,\n",
    "                    extrapolate, use_lr, use_km):\n",
    "    \"\"\"Find the lanes and draw them on an empty image.\n",
    "    \"\"\"\n",
    "    # Convert image to gray scale\n",
    "    grey_image = grayscale(raw_image)\n",
    "    # Apply Gaussian blur\n",
    "    blur_image = gaussian_blur(grey_image, 3)\n",
    "    # Detect edges using Canny transformation\n",
    "    edges = canny(blur_image, 50, 150)\n",
    "    # Crop according to the area of interest\n",
    "    region = [(x * edges.shape[1], y * edges.shape[0]) for x, y in lane_region]\n",
    "    masked_edges = region_of_interest(edges, region)\n",
    "    # Find lines using Hough transformation\n",
    "    lines = hough_lines(masked_edges, rho, theta, threshold, min_line_length, max_line_gap)\n",
    "    \n",
    "    lanes_image = np.zeros_like(raw_image)\n",
    "    if extrapolate:\n",
    "        # Extrapolate to find left and right lanes\n",
    "        def y(x, param): return int(round(x*param[0] + param[1]))\n",
    "        lp, labels = extrapolate_lines(lines, 2, use_lr, use_km)\n",
    "        lanes = [[0, y(0, p), raw_image.shape[1], y(raw_image.shape[1], p)]\n",
    "                 for p in lp]\n",
    "        # Draw the lanes full extended\n",
    "        draw_lines(lanes_image, np.array([lanes]), thickness=5)\n",
    "        # Last, bound the lines in the area of interest\n",
    "        lanes_image = region_of_interest(lanes_image, region)\n",
    "    else:\n",
    "        draw_lines(lanes_image, lines, thickness=5)\n",
    "    return lanes_image\n",
    "\n",
    "\n",
    "img_folder = 'test_images'\n",
    "out_folder = 'test_images_output'\n",
    "for f in os.listdir(img_folder):\n",
    "    if not f.endswith('.jpg'):\n",
    "        continue\n",
    "    # Read in image from file system\n",
    "    raw_image = mpimg.imread(os.path.join(img_folder, f))\n",
    "    # Find lanes.\n",
    "    lanes = find_lane_lines(raw_image, lane_region, \n",
    "                            rho, theta, threshold, min_line_length, max_line_gap,\n",
    "                            extrapolate=True, use_lr=True, use_km=False)\n",
    "    # Overlay the lanes on original image\n",
    "    annotated = weighted_img(lanes, raw_image)\n",
    "    #plt.figure()\n",
    "    #plt.imshow(annotated)\n",
    "    # Write back to file system\n",
    "    print(\"wrting back \" + os.path.join(out_folder, f))\n",
    "    cv2.imwrite(os.path.join(out_folder, f), cv2.cvtColor(annotated, cv2.COLOR_RGB2BGR))\n",
    "    "
   ]
  },
  {
   "cell_type": "markdown",
   "metadata": {},
   "source": [
    "## Test on Videos\n",
    "\n",
    "You know what's cooler than drawing lanes over images? Drawing lanes over video!\n",
    "\n",
    "We can test our solution on two provided videos:\n",
    "\n",
    "`solidWhiteRight.mp4`\n",
    "\n",
    "`solidYellowLeft.mp4`\n",
    "\n",
    "**Note: if you get an import error when you run the next cell, try changing your kernel (select the Kernel menu above --> Change Kernel). Still have problems? Try relaunching Jupyter Notebook from the terminal prompt. Also, consult the forums for more troubleshooting tips.**\n",
    "\n",
    "**If you get an error that looks like this:**\n",
    "```\n",
    "NeedDownloadError: Need ffmpeg exe. \n",
    "You can download it by calling: \n",
    "imageio.plugins.ffmpeg.download()\n",
    "```\n",
    "**Follow the instructions in the error message and check out [this forum post](https://discussions.udacity.com/t/project-error-of-test-on-videos/274082) for more troubleshooting tips across operating systems.**"
   ]
  },
  {
   "cell_type": "code",
   "execution_count": 6,
   "metadata": {
    "collapsed": true
   },
   "outputs": [],
   "source": [
    "# Import everything needed to edit/save/watch video clips\n",
    "from moviepy.editor import VideoFileClip\n",
    "from IPython.display import HTML"
   ]
  },
  {
   "cell_type": "code",
   "execution_count": 9,
   "metadata": {},
   "outputs": [],
   "source": [
    "idx = 1\n",
    "\n",
    "def process_image(raw_image):\n",
    "    # NOTE: The output you return should be a color image (3 channel) for processing video below\n",
    "    # TODO: put your pipeline here,\n",
    "    # you should return the final output (image where lines are drawn on lanes)\n",
    "    global idx\n",
    "    filename = 'debug_images/debug-%03d.jpg' % idx\n",
    "    cv2.imwrite(filename, cv2.cvtColor(raw_image, cv2.COLOR_RGB2BGR))\n",
    "    raw_image = mpimg.imread(filename)\n",
    "    # Find lanes.\n",
    "    lanes = find_lane_lines(raw_image, lane_region, \n",
    "                            rho, theta, threshold, min_line_length, max_line_gap,\n",
    "                            extrapolate=True, use_lr=True, use_km=False)\n",
    "    # Overlay the lanes on original image\n",
    "    overlaid =  weighted_img(lanes, raw_image)\n",
    "    #cv2.imwrite('debug_images_output/debug-%03d.jpg' % idx, cv2.cvtColor(overlaid, cv2.COLOR_RGB2BGR))\n",
    "    \n",
    "    idx+=1\n",
    "    return overlaid"
   ]
  },
  {
   "cell_type": "markdown",
   "metadata": {},
   "source": [
    "Let's try the one with the solid white lane on the right first ..."
   ]
  },
  {
   "cell_type": "code",
   "execution_count": 10,
   "metadata": {},
   "outputs": [
    {
     "name": "stdout",
     "output_type": "stream",
     "text": [
      "[MoviePy] >>>> Building video test_videos_output/solidWhiteRight.mp4\n",
      "[MoviePy] Writing video test_videos_output/solidWhiteRight.mp4\n"
     ]
    },
    {
     "name": "stderr",
     "output_type": "stream",
     "text": [
      "100%|█████████▉| 221/222 [00:15<00:00, 14.72it/s]\n"
     ]
    },
    {
     "name": "stdout",
     "output_type": "stream",
     "text": [
      "[MoviePy] Done.\n",
      "[MoviePy] >>>> Video ready: test_videos_output/solidWhiteRight.mp4 \n",
      "\n",
      "CPU times: user 9.53 s, sys: 1.02 s, total: 10.6 s\n",
      "Wall time: 16 s\n"
     ]
    }
   ],
   "source": [
    "white_output = 'test_videos_output/solidWhiteRight.mp4'\n",
    "## To speed up the testing process you may want to try your pipeline on a shorter subclip of the video\n",
    "## To do so add .subclip(start_second,end_second) to the end of the line below\n",
    "## Where start_second and end_second are integer values representing the start and end of the subclip\n",
    "## You may also uncomment the following line for a subclip of the first 5 seconds\n",
    "##clip1 = VideoFileClip(\"test_videos/solidWhiteRight.mp4\").subclip(0,2)\n",
    "clip1 = VideoFileClip(\"test_videos/solidWhiteRight.mp4\")\n",
    "white_clip = clip1.fl_image(process_image) #NOTE: this function expects color images!!\n",
    "%time white_clip.write_videofile(white_output, audio=False)"
   ]
  },
  {
   "cell_type": "markdown",
   "metadata": {},
   "source": [
    "Play the video inline, or if you prefer find the video in your filesystem (should be in the same directory) and play it in your video player of choice."
   ]
  },
  {
   "cell_type": "code",
   "execution_count": 11,
   "metadata": {
    "scrolled": false
   },
   "outputs": [
    {
     "data": {
      "text/html": [
       "\n",
       "<video width=\"960\" height=\"540\" controls>\n",
       "  <source src=\"test_videos_output/solidWhiteRight.mp4\">\n",
       "</video>\n"
      ],
      "text/plain": [
       "<IPython.core.display.HTML object>"
      ]
     },
     "execution_count": 11,
     "metadata": {},
     "output_type": "execute_result"
    }
   ],
   "source": [
    "HTML(\"\"\"\n",
    "<video width=\"960\" height=\"540\" controls>\n",
    "  <source src=\"{0}\">\n",
    "</video>\n",
    "\"\"\".format(white_output))"
   ]
  },
  {
   "cell_type": "markdown",
   "metadata": {},
   "source": [
    "## Improve the draw_lines() function\n",
    "\n",
    "**At this point, if you were successful with making the pipeline and tuning parameters, you probably have the Hough line segments drawn onto the road, but what about identifying the full extent of the lane and marking it clearly as in the example video (P1_example.mp4)?  Think about defining a line to run the full length of the visible lane based on the line segments you identified with the Hough Transform. As mentioned previously, try to average and/or extrapolate the line segments you've detected to map out the full extent of the lane lines. You can see an example of the result you're going for in the video \"P1_example.mp4\".**\n",
    "\n",
    "**Go back and modify your draw_lines function accordingly and try re-running your pipeline. The new output should draw a single, solid line over the left lane line and a single, solid line over the right lane line. The lines should start from the bottom of the image and extend out to the top of the region of interest.**"
   ]
  },
  {
   "cell_type": "markdown",
   "metadata": {},
   "source": [
    "Now for the one with the solid yellow lane on the left. This one's more tricky!"
   ]
  },
  {
   "cell_type": "code",
   "execution_count": 12,
   "metadata": {
    "scrolled": true
   },
   "outputs": [
    {
     "name": "stdout",
     "output_type": "stream",
     "text": [
      "[MoviePy] >>>> Building video test_videos_output/solidYellowLeft.mp4\n",
      "[MoviePy] Writing video test_videos_output/solidYellowLeft.mp4\n"
     ]
    },
    {
     "name": "stderr",
     "output_type": "stream",
     "text": [
      "100%|█████████▉| 681/682 [00:48<00:00, 14.07it/s]\n"
     ]
    },
    {
     "name": "stdout",
     "output_type": "stream",
     "text": [
      "[MoviePy] Done.\n",
      "[MoviePy] >>>> Video ready: test_videos_output/solidYellowLeft.mp4 \n",
      "\n",
      "CPU times: user 30 s, sys: 2.84 s, total: 32.8 s\n",
      "Wall time: 49.4 s\n"
     ]
    }
   ],
   "source": [
    "yellow_output = 'test_videos_output/solidYellowLeft.mp4'\n",
    "## To speed up the testing process you may want to try your pipeline on a shorter subclip of the video\n",
    "## To do so add .subclip(start_second,end_second) to the end of the line below\n",
    "## Where start_second and end_second are integer values representing the start and end of the subclip\n",
    "## You may also uncomment the following line for a subclip of the first 5 seconds\n",
    "##clip2 = VideoFileClip('test_videos/solidYellowLeft.mp4').subclip(9,11)\n",
    "clip2 = VideoFileClip('test_videos/solidYellowLeft.mp4')\n",
    "yellow_clip = clip2.fl_image(process_image)\n",
    "%time yellow_clip.write_videofile(yellow_output, audio=False)"
   ]
  },
  {
   "cell_type": "code",
   "execution_count": 14,
   "metadata": {},
   "outputs": [
    {
     "data": {
      "text/html": [
       "\n",
       "<video width=\"960\" height=\"540\" controls>\n",
       "  <source src=\"test_videos_output/solidYellowLeft.mp4\">\n",
       "</video>\n"
      ],
      "text/plain": [
       "<IPython.core.display.HTML object>"
      ]
     },
     "execution_count": 14,
     "metadata": {},
     "output_type": "execute_result"
    }
   ],
   "source": [
    "HTML(\"\"\"\n",
    "<video width=\"960\" height=\"540\" controls>\n",
    "  <source src=\"{0}\">\n",
    "</video>\n",
    "\"\"\".format(yellow_output))"
   ]
  },
  {
   "cell_type": "markdown",
   "metadata": {},
   "source": [
    "## Writeup and Submission\n",
    "\n",
    "If you're satisfied with your video outputs, it's time to make the report writeup in a pdf or markdown file. Once you have this Ipython notebook ready along with the writeup, it's time to submit for review! Here is a [link](https://github.com/udacity/CarND-LaneLines-P1/blob/master/writeup_template.md) to the writeup template file.\n"
   ]
  },
  {
   "cell_type": "markdown",
   "metadata": {
    "collapsed": true
   },
   "source": [
    "## Optional Challenge\n",
    "\n",
    "Try your lane finding pipeline on the video below.  Does it still work?  Can you figure out a way to make it more robust?  If you're up for the challenge, modify your pipeline so it works with this video and submit it along with the rest of your project!"
   ]
  },
  {
   "cell_type": "code",
   "execution_count": 15,
   "metadata": {
    "scrolled": true
   },
   "outputs": [
    {
     "name": "stdout",
     "output_type": "stream",
     "text": [
      "[MoviePy] >>>> Building video test_videos_output/challenge.mp4\n",
      "[MoviePy] Writing video test_videos_output/challenge.mp4\n"
     ]
    },
    {
     "name": "stderr",
     "output_type": "stream",
     "text": [
      "100%|██████████| 251/251 [00:33<00:00,  8.33it/s]\n"
     ]
    },
    {
     "name": "stdout",
     "output_type": "stream",
     "text": [
      "[MoviePy] Done.\n",
      "[MoviePy] >>>> Video ready: test_videos_output/challenge.mp4 \n",
      "\n",
      "CPU times: user 20.1 s, sys: 2.08 s, total: 22.2 s\n",
      "Wall time: 35.5 s\n"
     ]
    }
   ],
   "source": [
    "lane_region = [\n",
    "    (120.0/960, 0.9),\n",
    "    (430.0/960, 330.0/540),\n",
    "    (540.0/960, 330.0/540),\n",
    "    (950.0/960, 0.9)\n",
    "]\n",
    "\n",
    "challenge_output = 'test_videos_output/challenge.mp4'\n",
    "## To speed up the testing process you may want to try your pipeline on a shorter subclip of the video\n",
    "## To do so add .subclip(start_second,end_second) to the end of the line below\n",
    "## Where start_second and end_second are integer values representing the start and end of the subclip\n",
    "## You may also uncomment the following line for a subclip of the first 5 seconds\n",
    "##clip3 = VideoFileClip('test_videos/challenge.mp4').subclip(4,5)\n",
    "clip3 = VideoFileClip('test_videos/challenge.mp4')\n",
    "challenge_clip = clip3.fl_image(process_image)\n",
    "%time challenge_clip.write_videofile(challenge_output, audio=False)"
   ]
  },
  {
   "cell_type": "code",
   "execution_count": 16,
   "metadata": {},
   "outputs": [
    {
     "data": {
      "text/html": [
       "\n",
       "<video width=\"960\" height=\"540\" controls>\n",
       "  <source src=\"test_videos_output/challenge.mp4\">\n",
       "</video>\n"
      ],
      "text/plain": [
       "<IPython.core.display.HTML object>"
      ]
     },
     "execution_count": 16,
     "metadata": {},
     "output_type": "execute_result"
    }
   ],
   "source": [
    "HTML(\"\"\"\n",
    "<video width=\"960\" height=\"540\" controls>\n",
    "  <source src=\"{0}\">\n",
    "</video>\n",
    "\"\"\".format(challenge_output))"
   ]
  },
  {
   "cell_type": "code",
   "execution_count": null,
   "metadata": {
    "collapsed": true
   },
   "outputs": [],
   "source": []
  }
 ],
 "metadata": {
  "anaconda-cloud": {},
  "kernelspec": {
   "display_name": "Python 3",
   "language": "python",
   "name": "python3"
  },
  "language_info": {
   "codemirror_mode": {
    "name": "ipython",
    "version": 3
   },
   "file_extension": ".py",
   "mimetype": "text/x-python",
   "name": "python",
   "nbconvert_exporter": "python",
   "pygments_lexer": "ipython3",
   "version": "3.5.2"
  },
  "widgets": {
   "state": {},
   "version": "1.1.2"
  }
 },
 "nbformat": 4,
 "nbformat_minor": 1
}
